{
  "nbformat": 4,
  "nbformat_minor": 0,
  "metadata": {
    "colab": {
      "name": "SLP.ipynb",
      "provenance": [],
      "collapsed_sections": []
    },
    "kernelspec": {
      "name": "python3",
      "display_name": "Python 3"
    },
    "language_info": {
      "name": "python"
    }
  },
  "cells": [
    {
      "cell_type": "code",
      "execution_count": 9,
      "metadata": {
        "colab": {
          "base_uri": "https://localhost:8080/"
        },
        "id": "T7X70qbXfz1y",
        "outputId": "6bb7cb85-862d-4a15-a6aa-fef6c6482a84"
      },
      "outputs": [
        {
          "output_type": "stream",
          "name": "stdout",
          "text": [
            "Requirement already satisfied: librosa in /usr/local/lib/python3.7/dist-packages (0.8.1)\n",
            "Requirement already satisfied: scikit-learn!=0.19.0,>=0.14.0 in /usr/local/lib/python3.7/dist-packages (from librosa) (1.0.2)\n",
            "Requirement already satisfied: packaging>=20.0 in /usr/local/lib/python3.7/dist-packages (from librosa) (21.3)\n",
            "Requirement already satisfied: numpy>=1.15.0 in /usr/local/lib/python3.7/dist-packages (from librosa) (1.21.6)\n",
            "Requirement already satisfied: numba>=0.43.0 in /usr/local/lib/python3.7/dist-packages (from librosa) (0.51.2)\n",
            "Requirement already satisfied: joblib>=0.14 in /usr/local/lib/python3.7/dist-packages (from librosa) (1.1.0)\n",
            "Requirement already satisfied: pooch>=1.0 in /usr/local/lib/python3.7/dist-packages (from librosa) (1.6.0)\n",
            "Requirement already satisfied: resampy>=0.2.2 in /usr/local/lib/python3.7/dist-packages (from librosa) (0.2.2)\n",
            "Requirement already satisfied: scipy>=1.0.0 in /usr/local/lib/python3.7/dist-packages (from librosa) (1.4.1)\n",
            "Requirement already satisfied: audioread>=2.0.0 in /usr/local/lib/python3.7/dist-packages (from librosa) (2.1.9)\n",
            "Requirement already satisfied: decorator>=3.0.0 in /usr/local/lib/python3.7/dist-packages (from librosa) (4.4.2)\n",
            "Requirement already satisfied: soundfile>=0.10.2 in /usr/local/lib/python3.7/dist-packages (from librosa) (0.10.3.post1)\n",
            "Requirement already satisfied: llvmlite<0.35,>=0.34.0.dev0 in /usr/local/lib/python3.7/dist-packages (from numba>=0.43.0->librosa) (0.34.0)\n",
            "Requirement already satisfied: setuptools in /usr/local/lib/python3.7/dist-packages (from numba>=0.43.0->librosa) (57.4.0)\n",
            "Requirement already satisfied: pyparsing!=3.0.5,>=2.0.2 in /usr/local/lib/python3.7/dist-packages (from packaging>=20.0->librosa) (3.0.8)\n",
            "Requirement already satisfied: appdirs>=1.3.0 in /usr/local/lib/python3.7/dist-packages (from pooch>=1.0->librosa) (1.4.4)\n",
            "Requirement already satisfied: requests>=2.19.0 in /usr/local/lib/python3.7/dist-packages (from pooch>=1.0->librosa) (2.23.0)\n",
            "Requirement already satisfied: idna<3,>=2.5 in /usr/local/lib/python3.7/dist-packages (from requests>=2.19.0->pooch>=1.0->librosa) (2.10)\n",
            "Requirement already satisfied: chardet<4,>=3.0.2 in /usr/local/lib/python3.7/dist-packages (from requests>=2.19.0->pooch>=1.0->librosa) (3.0.4)\n",
            "Requirement already satisfied: urllib3!=1.25.0,!=1.25.1,<1.26,>=1.21.1 in /usr/local/lib/python3.7/dist-packages (from requests>=2.19.0->pooch>=1.0->librosa) (1.24.3)\n",
            "Requirement already satisfied: certifi>=2017.4.17 in /usr/local/lib/python3.7/dist-packages (from requests>=2.19.0->pooch>=1.0->librosa) (2021.10.8)\n",
            "Requirement already satisfied: six>=1.3 in /usr/local/lib/python3.7/dist-packages (from resampy>=0.2.2->librosa) (1.15.0)\n",
            "Requirement already satisfied: threadpoolctl>=2.0.0 in /usr/local/lib/python3.7/dist-packages (from scikit-learn!=0.19.0,>=0.14.0->librosa) (3.1.0)\n",
            "Requirement already satisfied: cffi>=1.0 in /usr/local/lib/python3.7/dist-packages (from soundfile>=0.10.2->librosa) (1.15.0)\n",
            "Requirement already satisfied: pycparser in /usr/local/lib/python3.7/dist-packages (from cffi>=1.0->soundfile>=0.10.2->librosa) (2.21)\n"
          ]
        }
      ],
      "source": [
        "pip install librosa\n"
      ]
    },
    {
      "cell_type": "code",
      "source": [
        "from google.colab import drive\n",
        "drive.mount('/content/drive')"
      ],
      "metadata": {
        "colab": {
          "base_uri": "https://localhost:8080/"
        },
        "id": "sYGJwsNMgR17",
        "outputId": "0edf8b07-3fd4-44a4-ad34-7e0e41e7da25"
      },
      "execution_count": 10,
      "outputs": [
        {
          "output_type": "stream",
          "name": "stdout",
          "text": [
            "Drive already mounted at /content/drive; to attempt to forcibly remount, call drive.mount(\"/content/drive\", force_remount=True).\n"
          ]
        }
      ]
    },
    {
      "cell_type": "code",
      "source": [
        "import librosa, librosa.display\n",
        "import matplotlib.pyplot as plt\n",
        "import numpy as np\n",
        "import IPython.display as idsp\n",
        "import glob\n",
        "import os"
      ],
      "metadata": {
        "id": "KJJDGBMdgi-9"
      },
      "execution_count": 24,
      "outputs": []
    },
    {
      "cell_type": "code",
      "source": [
        "data_path = '/content/drive/MyDrive/SLP-Data/'\n",
        "des_path = '/content/drive/MyDrive/SLP-MFCCs/'"
      ],
      "metadata": {
        "id": "r4kJkVvKglEK"
      },
      "execution_count": 25,
      "outputs": []
    },
    {
      "cell_type": "code",
      "source": [
        "label_dict={'0': 0, '1': 0, '2': 0, '3': 0, '4': 0, '5': 0, \n",
        "\t'6': 0, '7': 0, '8': 0, '9': 0, 'lam': 0, 'linh': 0, \n",
        "\t'm1': 0, 'mot': 0, 'muoi': 0, 'nghin': 0, 'sil': 0,\n",
        "\t'tram': 0, 'trieu': 0, 'tu': 0}"
      ],
      "metadata": {
        "id": "DIxue_5cYs8x"
      },
      "execution_count": 36,
      "outputs": []
    },
    {
      "cell_type": "markdown",
      "source": [
        "# Extracting MFCC features "
      ],
      "metadata": {
        "id": "BnaEDFwyeTue"
      }
    },
    {
      "cell_type": "code",
      "source": [
        "\n",
        "sound_path = '/content/drive/MyDrive/SLP-Data/c2.wav'\n",
        "label_path = sound_path.replace('.wav', '.txt')\n",
        "data = []\n",
        "lines = []\n",
        "with open(label_path) as f:\n",
        "    lines = f.readlines()\n",
        "for line in lines:\n",
        "    start, end, label = line.split()\n",
        "    signal, sr = librosa.load(sound_path, offset=float(start), duration=float(end)-float(start))\n",
        "    audio = idsp.Audio(data=signal, rate=sr)\n",
        "    data.append([audio, signal, sr, label])\n",
        "\n",
        "    mfccs = librosa.feature.mfcc(y=signal, n_mfcc=13, sr=sr)\n",
        "    delta_mfccs = librosa.feature.delta(mfccs)\n",
        "    delta2_mfccs = librosa.feature.delta(mfccs, order=2)\n",
        "    mfccs_features = np.concatenate((mfccs, delta_mfccs, delta2_mfccs))\n",
        "\n",
        "            \n",
        "    txt_path = os.path.join(des_path, \"{}-{}.txt\")\n",
        "    np.savetxt(txt_path.format(label, label_dict[label]),mfccs_features)\n",
        "    label_dict[label] += 1\n"
      ],
      "metadata": {
        "id": "4AuAm7D-i_8x"
      },
      "execution_count": 38,
      "outputs": []
    },
    {
      "cell_type": "markdown",
      "source": [
        "# DTW"
      ],
      "metadata": {
        "id": "-rCdg7RceZd_"
      }
    },
    {
      "cell_type": "code",
      "source": [
        "lables = ('0', '1', '2', '3', '4', '5', \n",
        "\t'6', '7', '8', '9', 'lam', 'linh', \n",
        "\t'm1', 'mot', 'muoi', 'nghin', 'sil',\n",
        "\t'tram', 'trieu', 'tu')"
      ],
      "metadata": {
        "id": "zcFUnrwDfHhM"
      },
      "execution_count": 39,
      "outputs": []
    },
    {
      "cell_type": "code",
      "source": [
        "des_path = '/content/drive/MyDrive/SLP-MFCCs/'"
      ],
      "metadata": {
        "id": "8zp0Ai3qfLd4"
      },
      "execution_count": 42,
      "outputs": []
    },
    {
      "cell_type": "code",
      "source": [
        "ts = {}\n",
        "txt_file_name = '{}-{}.txt'\n",
        "for lable in lables:\n",
        "\t\n",
        "\tt1 = np.loadtxt(os.path.join(des_path, txt_file_name.format(label, 0)))\n",
        "\tt2 = np.loadtxt(os.path.join(des_path, txt_file_name.format(label, 1)))\n",
        "\tt3 = np.loadtxt(os.path.join(des_path, txt_file_name.format(label, 2)))\n",
        "\tts[lable] = (t1, t2, t3)\n",
        "\n",
        "query_label = lables[8]\n",
        "query_path = os.path.join(des_path, query_label, txt_file_name.format('8', '0')\n",
        "query_path\n",
        "'''\n",
        "query = np.loadtxt(query_path)\n",
        "\n",
        "query = np.transpose(query)\n",
        "\n",
        "print(query_label)\n",
        "\n",
        "min_dis = 100000\n",
        "lable_query = '?'\n",
        "\n",
        "for lable in lables:\n",
        "\tfor t in ts[lable]:\n",
        "\t\talignmentOBE = librosa.sequence.dtw(query, np.transpose(t), \n",
        "\t\t\tkeep_internals=True, \n",
        "\t\t\topen_end=True, open_begin=True)\n",
        "\t\tif alignmentOBE.normalizedDistance < min_dis:\n",
        "\t\t\tmin_dis = alignmentOBE.normalizedDistance\n",
        "\t\t\tlable_query = lable\n",
        "\n",
        "print(lable_query)\n",
        "'''"
      ],
      "metadata": {
        "colab": {
          "base_uri": "https://localhost:8080/",
          "height": 134
        },
        "id": "95poaNYieFhl",
        "outputId": "054b557e-36f7-4496-e9f8-4fec069cd2cb"
      },
      "execution_count": 51,
      "outputs": [
        {
          "output_type": "error",
          "ename": "SyntaxError",
          "evalue": "ignored",
          "traceback": [
            "\u001b[0;36m  File \u001b[0;32m\"<ipython-input-51-ac5d5b224f6c>\"\u001b[0;36m, line \u001b[0;32m12\u001b[0m\n\u001b[0;31m    query_path\u001b[0m\n\u001b[0m             ^\u001b[0m\n\u001b[0;31mSyntaxError\u001b[0m\u001b[0;31m:\u001b[0m invalid syntax\n"
          ]
        }
      ]
    }
  ]
}